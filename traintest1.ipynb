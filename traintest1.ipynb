{
 "cells": [
  {
   "cell_type": "code",
   "execution_count": 1,
   "id": "28322070",
   "metadata": {},
   "outputs": [],
   "source": [
    "import numpy as np"
   ]
  },
  {
   "cell_type": "code",
   "execution_count": 2,
   "id": "bc0a10c8",
   "metadata": {},
   "outputs": [],
   "source": [
    "from sklearn.metrics import r2_score"
   ]
  },
  {
   "cell_type": "code",
   "execution_count": 3,
   "id": "611492b9",
   "metadata": {},
   "outputs": [],
   "source": [
    "np.random.seed(2)"
   ]
  },
  {
   "cell_type": "code",
   "execution_count": 5,
   "id": "de16c1c3",
   "metadata": {},
   "outputs": [],
   "source": [
    "x = np.random.normal(3, 1, 100)"
   ]
  },
  {
   "cell_type": "code",
   "execution_count": 6,
   "id": "190a5e63",
   "metadata": {},
   "outputs": [],
   "source": [
    "y = np.random.normal(150, 40, 100)/x"
   ]
  },
  {
   "cell_type": "code",
   "execution_count": 7,
   "id": "411a359a",
   "metadata": {},
   "outputs": [],
   "source": [
    "train_x = x[:80]\n",
    "train_y = y[:80]"
   ]
  },
  {
   "cell_type": "code",
   "execution_count": 8,
   "id": "482e8c22",
   "metadata": {},
   "outputs": [],
   "source": [
    "test_x = x[80:]\n",
    "test_y = y[80:]"
   ]
  },
  {
   "cell_type": "code",
   "execution_count": 9,
   "id": "953c7d78",
   "metadata": {},
   "outputs": [],
   "source": [
    "mymodel = np.poly1d(np.polyfit(train_x,train_y,4))"
   ]
  },
  {
   "cell_type": "markdown",
   "id": "9816511b",
   "metadata": {},
   "source": [
    "fro train set"
   ]
  },
  {
   "cell_type": "code",
   "execution_count": 10,
   "id": "97d57a40",
   "metadata": {},
   "outputs": [],
   "source": [
    "r2 = r2_score(train_y, mymodel(train_x))"
   ]
  },
  {
   "cell_type": "code",
   "execution_count": 11,
   "id": "597428a7",
   "metadata": {},
   "outputs": [
    {
     "data": {
      "text/plain": [
       "0.7988645544629797"
      ]
     },
     "execution_count": 11,
     "metadata": {},
     "output_type": "execute_result"
    }
   ],
   "source": [
    "r2"
   ]
  },
  {
   "cell_type": "markdown",
   "id": "7e65f968",
   "metadata": {},
   "source": [
    "for test set"
   ]
  },
  {
   "cell_type": "code",
   "execution_count": 14,
   "id": "208581a3",
   "metadata": {},
   "outputs": [],
   "source": [
    "r2_1 = r2_score(test_y, mymodel(test_x))"
   ]
  },
  {
   "cell_type": "code",
   "execution_count": 15,
   "id": "5101de3f",
   "metadata": {},
   "outputs": [
    {
     "data": {
      "text/plain": [
       "0.8086921460343581"
      ]
     },
     "execution_count": 15,
     "metadata": {},
     "output_type": "execute_result"
    }
   ],
   "source": [
    "r2_1"
   ]
  },
  {
   "cell_type": "code",
   "execution_count": null,
   "id": "bfbdecae",
   "metadata": {},
   "outputs": [],
   "source": []
  }
 ],
 "metadata": {
  "kernelspec": {
   "display_name": "Python 3 (ipykernel)",
   "language": "python",
   "name": "python3"
  },
  "language_info": {
   "codemirror_mode": {
    "name": "ipython",
    "version": 3
   },
   "file_extension": ".py",
   "mimetype": "text/x-python",
   "name": "python",
   "nbconvert_exporter": "python",
   "pygments_lexer": "ipython3",
   "version": "3.9.6"
  }
 },
 "nbformat": 4,
 "nbformat_minor": 5
}
