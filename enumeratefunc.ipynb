{
 "cells": [
  {
   "cell_type": "code",
   "execution_count": 1,
   "id": "e3a83013",
   "metadata": {},
   "outputs": [],
   "source": [
    "l1 = [\"Bhindi\", \"Aloo\", \"Chopsticks\", \"chowmin\"]"
   ]
  },
  {
   "cell_type": "code",
   "execution_count": 2,
   "id": "a8c6fb40",
   "metadata": {},
   "outputs": [
    {
     "name": "stdout",
     "output_type": "stream",
     "text": [
      "please buy Bhindi\n",
      "please buy Chopsticks\n"
     ]
    }
   ],
   "source": [
    "for index, item in enumerate(l1):\n",
    "    if index%2==0:\n",
    "        print(f\"please buy {item}\")"
   ]
  },
  {
   "cell_type": "code",
   "execution_count": null,
   "id": "c04b9675",
   "metadata": {},
   "outputs": [],
   "source": []
  }
 ],
 "metadata": {
  "kernelspec": {
   "display_name": "Python 3 (ipykernel)",
   "language": "python",
   "name": "python3"
  },
  "language_info": {
   "codemirror_mode": {
    "name": "ipython",
    "version": 3
   },
   "file_extension": ".py",
   "mimetype": "text/x-python",
   "name": "python",
   "nbconvert_exporter": "python",
   "pygments_lexer": "ipython3",
   "version": "3.9.6"
  }
 },
 "nbformat": 4,
 "nbformat_minor": 5
}
