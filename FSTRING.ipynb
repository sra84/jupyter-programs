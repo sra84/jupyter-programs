{
 "cells": [
  {
   "cell_type": "markdown",
   "id": "67375590",
   "metadata": {},
   "source": [
    "## F String"
   ]
  },
  {
   "cell_type": "code",
   "execution_count": 1,
   "id": "993816f4",
   "metadata": {},
   "outputs": [],
   "source": [
    "me = \"Sra\""
   ]
  },
  {
   "cell_type": "code",
   "execution_count": 2,
   "id": "33411ed0",
   "metadata": {},
   "outputs": [
    {
     "data": {
      "text/plain": [
       "'this is Sra'"
      ]
     },
     "execution_count": 2,
     "metadata": {},
     "output_type": "execute_result"
    }
   ],
   "source": [
    "a = \"this is %s\"%me\n",
    "a"
   ]
  },
  {
   "cell_type": "code",
   "execution_count": 3,
   "id": "74bbe58b",
   "metadata": {},
   "outputs": [],
   "source": [
    "a1 = 3"
   ]
  },
  {
   "cell_type": "code",
   "execution_count": 4,
   "id": "5ef5d92f",
   "metadata": {},
   "outputs": [
    {
     "data": {
      "text/plain": [
       "'this is Sra 3'"
      ]
     },
     "execution_count": 4,
     "metadata": {},
     "output_type": "execute_result"
    }
   ],
   "source": [
    "a = \"this is %s %s\"%(me, a1)\n",
    "a"
   ]
  },
  {
   "cell_type": "code",
   "execution_count": 5,
   "id": "23052de4",
   "metadata": {},
   "outputs": [],
   "source": [
    "a = \"this is {} {}\""
   ]
  },
  {
   "cell_type": "code",
   "execution_count": 7,
   "id": "6c947e3a",
   "metadata": {},
   "outputs": [
    {
     "data": {
      "text/plain": [
       "'this is Sra 3'"
      ]
     },
     "execution_count": 7,
     "metadata": {},
     "output_type": "execute_result"
    }
   ],
   "source": [
    "b = a.format(me, a1)\n",
    "b"
   ]
  },
  {
   "cell_type": "code",
   "execution_count": 9,
   "id": "24ece04b",
   "metadata": {},
   "outputs": [],
   "source": [
    "a = \"this is {1} {0}\""
   ]
  },
  {
   "cell_type": "code",
   "execution_count": 10,
   "id": "4d882507",
   "metadata": {},
   "outputs": [
    {
     "data": {
      "text/plain": [
       "'this is 3 Sra'"
      ]
     },
     "execution_count": 10,
     "metadata": {},
     "output_type": "execute_result"
    }
   ],
   "source": [
    "b = a.format(me, a1)\n",
    "b"
   ]
  },
  {
   "cell_type": "code",
   "execution_count": 11,
   "id": "d4caeda7",
   "metadata": {},
   "outputs": [
    {
     "data": {
      "text/plain": [
       "'this is Sra 3'"
      ]
     },
     "execution_count": 11,
     "metadata": {},
     "output_type": "execute_result"
    }
   ],
   "source": [
    "a = f\"this is {me} {a1}\"\n",
    "a"
   ]
  },
  {
   "cell_type": "code",
   "execution_count": 12,
   "id": "1595c115",
   "metadata": {},
   "outputs": [
    {
     "data": {
      "text/plain": [
       "'this is Sra 3 272'"
      ]
     },
     "execution_count": 12,
     "metadata": {},
     "output_type": "execute_result"
    }
   ],
   "source": [
    "a = f\"this is {me} {a1} {4*68}\"\n",
    "a"
   ]
  },
  {
   "cell_type": "code",
   "execution_count": 13,
   "id": "702904c4",
   "metadata": {},
   "outputs": [],
   "source": [
    "import math"
   ]
  },
  {
   "cell_type": "code",
   "execution_count": 14,
   "id": "a36eae5a",
   "metadata": {},
   "outputs": [
    {
     "data": {
      "text/plain": [
       "'this is Sra 3 -0.562453851238172'"
      ]
     },
     "execution_count": 14,
     "metadata": {},
     "output_type": "execute_result"
    }
   ],
   "source": [
    "a = f\"this is {me} {a1} {math.cos(65)}\"\n",
    "a"
   ]
  },
  {
   "cell_type": "code",
   "execution_count": null,
   "id": "553cd1c8",
   "metadata": {},
   "outputs": [],
   "source": []
  }
 ],
 "metadata": {
  "kernelspec": {
   "display_name": "Python 3 (ipykernel)",
   "language": "python",
   "name": "python3"
  },
  "language_info": {
   "codemirror_mode": {
    "name": "ipython",
    "version": 3
   },
   "file_extension": ".py",
   "mimetype": "text/x-python",
   "name": "python",
   "nbconvert_exporter": "python",
   "pygments_lexer": "ipython3",
   "version": "3.9.6"
  }
 },
 "nbformat": 4,
 "nbformat_minor": 5
}
